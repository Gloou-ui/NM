{
  "cells": [
    {
      "cell_type": "markdown",
      "metadata": {
        "id": "view-in-github",
        "colab_type": "text"
      },
      "source": [
        "<a href=\"https://colab.research.google.com/github/Gloou-ui/NM/blob/main/%D0%9B%D0%A0_4_%D0%92%D0%B0%D1%80%D1%96%D0%B0%D0%BD%D1%82_17_%D0%9B%D0%B8%D1%82%D0%B2%D0%B8%D0%BD_%D0%9C.ipynb\" target=\"_parent\"><img src=\"https://colab.research.google.com/assets/colab-badge.svg\" alt=\"Open In Colab\"/></a>"
      ]
    },
    {
      "cell_type": "markdown",
      "source": [
        "Був присутнім на парі"
      ],
      "metadata": {
        "id": "J3J1cCSQ6HX5"
      },
      "id": "J3J1cCSQ6HX5"
    },
    {
      "cell_type": "code",
      "source": [
        "import numpy as np\n",
        "np.__version__"
      ],
      "metadata": {
        "colab": {
          "base_uri": "https://localhost:8080/",
          "height": 35
        },
        "id": "3GwtWVwwk-ss",
        "outputId": "1e429cbf-d6b2-4322-81db-f1129057969a"
      },
      "id": "3GwtWVwwk-ss",
      "execution_count": null,
      "outputs": [
        {
          "output_type": "execute_result",
          "data": {
            "text/plain": [
              "'2.0.2'"
            ],
            "application/vnd.google.colaboratory.intrinsic+json": {
              "type": "string"
            }
          },
          "metadata": {},
          "execution_count": 21
        }
      ]
    },
    {
      "cell_type": "code",
      "source": [
        "matrix = np.random.randint(1,9, size=(3,3))\n",
        "\n",
        "matrix"
      ],
      "metadata": {
        "colab": {
          "base_uri": "https://localhost:8080/"
        },
        "id": "7ZAI9VIPlRA5",
        "outputId": "680dd36a-20b0-492a-8d21-85e5bdf1573e"
      },
      "id": "7ZAI9VIPlRA5",
      "execution_count": null,
      "outputs": [
        {
          "output_type": "execute_result",
          "data": {
            "text/plain": [
              "array([[7, 7, 1],\n",
              "       [5, 2, 2],\n",
              "       [8, 2, 1]])"
            ]
          },
          "metadata": {},
          "execution_count": 7
        }
      ]
    },
    {
      "cell_type": "code",
      "source": [
        "bet = np.linalg.det(matrix)\n",
        "bet"
      ],
      "metadata": {
        "colab": {
          "base_uri": "https://localhost:8080/"
        },
        "id": "FMcJoSCGpaaW",
        "outputId": "e5fbbc0b-367e-46f6-de65-e190cca96d53"
      },
      "id": "FMcJoSCGpaaW",
      "execution_count": null,
      "outputs": [
        {
          "output_type": "execute_result",
          "data": {
            "text/plain": [
              "np.float64(57.00000000000001)"
            ]
          },
          "metadata": {},
          "execution_count": 8
        }
      ]
    },
    {
      "cell_type": "code",
      "source": [
        "product = np.prod(matrix)\n",
        "product"
      ],
      "metadata": {
        "colab": {
          "base_uri": "https://localhost:8080/"
        },
        "id": "MVFFZ-v3qIod",
        "outputId": "16a89688-6d1f-4915-b3bb-d07d3585da16"
      },
      "id": "MVFFZ-v3qIod",
      "execution_count": null,
      "outputs": [
        {
          "output_type": "execute_result",
          "data": {
            "text/plain": [
              "np.int64(15680)"
            ]
          },
          "metadata": {},
          "execution_count": 9
        }
      ]
    },
    {
      "cell_type": "code",
      "source": [
        "prod_1 = np.prod(matrix[0])\n",
        "prod_2 = np.prod(matrix[1])\n",
        "prod_3 = np.prod(matrix[2])\n",
        "prod_1*prod_2*prod_3"
      ],
      "metadata": {
        "colab": {
          "base_uri": "https://localhost:8080/"
        },
        "id": "urJbQjjVqsuU",
        "outputId": "a7547fce-4194-4ead-f302-84414ee76e05"
      },
      "id": "urJbQjjVqsuU",
      "execution_count": null,
      "outputs": [
        {
          "output_type": "execute_result",
          "data": {
            "text/plain": [
              "np.int64(15680)"
            ]
          },
          "metadata": {},
          "execution_count": 10
        }
      ]
    },
    {
      "cell_type": "code",
      "source": [
        "sum_1 = np.sum(matrix)\n",
        "\n",
        "sum_1"
      ],
      "metadata": {
        "colab": {
          "base_uri": "https://localhost:8080/"
        },
        "id": "FOgBnDxKrVVj",
        "outputId": "e9d0a71e-a8b1-4f7e-b602-171a204949f5"
      },
      "id": "FOgBnDxKrVVj",
      "execution_count": null,
      "outputs": [
        {
          "output_type": "execute_result",
          "data": {
            "text/plain": [
              "np.int64(35)"
            ]
          },
          "metadata": {},
          "execution_count": 11
        }
      ]
    },
    {
      "cell_type": "code",
      "source": [
        "np.max(matrix)"
      ],
      "metadata": {
        "colab": {
          "base_uri": "https://localhost:8080/"
        },
        "id": "DJBKZkaUrmFf",
        "outputId": "a4f92d86-831a-4442-e659-5f9fab136556"
      },
      "id": "DJBKZkaUrmFf",
      "execution_count": null,
      "outputs": [
        {
          "output_type": "execute_result",
          "data": {
            "text/plain": [
              "np.int64(8)"
            ]
          },
          "metadata": {},
          "execution_count": 12
        }
      ]
    },
    {
      "cell_type": "code",
      "source": [
        "np.min(matrix)"
      ],
      "metadata": {
        "colab": {
          "base_uri": "https://localhost:8080/"
        },
        "id": "j2U2vH2LscRW",
        "outputId": "fa75e0d4-2c1d-48d6-e48d-4f5f6af71cc1"
      },
      "id": "j2U2vH2LscRW",
      "execution_count": null,
      "outputs": [
        {
          "output_type": "execute_result",
          "data": {
            "text/plain": [
              "np.int64(1)"
            ]
          },
          "metadata": {},
          "execution_count": 13
        }
      ]
    },
    {
      "cell_type": "code",
      "source": [
        "np.mean(matrix)"
      ],
      "metadata": {
        "colab": {
          "base_uri": "https://localhost:8080/"
        },
        "id": "JoYzAasWshyo",
        "outputId": "b9ec896f-291b-4dd4-8dcf-80babdb83429"
      },
      "id": "JoYzAasWshyo",
      "execution_count": null,
      "outputs": [
        {
          "output_type": "execute_result",
          "data": {
            "text/plain": [
              "np.float64(3.888888888888889)"
            ]
          },
          "metadata": {},
          "execution_count": 14
        }
      ]
    },
    {
      "cell_type": "code",
      "source": [
        "np.sqrt(matrix)"
      ],
      "metadata": {
        "colab": {
          "base_uri": "https://localhost:8080/"
        },
        "id": "QvKnf7p6ss3x",
        "outputId": "fe70a8f1-0b85-4081-eff7-3ce58ae46334"
      },
      "id": "QvKnf7p6ss3x",
      "execution_count": null,
      "outputs": [
        {
          "output_type": "execute_result",
          "data": {
            "text/plain": [
              "array([[2.64575131, 2.64575131, 1.        ],\n",
              "       [2.23606798, 1.41421356, 1.41421356],\n",
              "       [2.82842712, 1.41421356, 1.        ]])"
            ]
          },
          "metadata": {},
          "execution_count": 15
        }
      ]
    },
    {
      "cell_type": "code",
      "source": [
        "row_sums = np.sum(matrix, axis=1).reshape(-1,1)\n",
        "print(row_sums)"
      ],
      "metadata": {
        "colab": {
          "base_uri": "https://localhost:8080/"
        },
        "id": "uw1u9ZlUtJrA",
        "outputId": "0a19e4f3-e0a4-4bed-e2a4-e58e20bdb751"
      },
      "id": "uw1u9ZlUtJrA",
      "execution_count": null,
      "outputs": [
        {
          "output_type": "stream",
          "name": "stdout",
          "text": [
            "[[15]\n",
            " [ 9]\n",
            " [11]]\n"
          ]
        }
      ]
    },
    {
      "cell_type": "code",
      "source": [
        "vector=np.random.randint(1, 10, size=25)\n",
        "vector"
      ],
      "metadata": {
        "colab": {
          "base_uri": "https://localhost:8080/"
        },
        "id": "A-zETMntt9hf",
        "outputId": "41e2aa5c-4790-4816-a5cd-79676defbf53"
      },
      "id": "A-zETMntt9hf",
      "execution_count": null,
      "outputs": [
        {
          "output_type": "execute_result",
          "data": {
            "text/plain": [
              "array([5, 6, 7, 9, 7, 6, 8, 8, 3, 5, 4, 8, 4, 9, 4, 3, 9, 8, 5, 6, 6, 9,\n",
              "       6, 4, 7])"
            ]
          },
          "metadata": {},
          "execution_count": 26
        }
      ]
    },
    {
      "cell_type": "code",
      "source": [
        "sorted_vector = np.sort(vector)\n",
        "sorted_vector"
      ],
      "metadata": {
        "colab": {
          "base_uri": "https://localhost:8080/"
        },
        "id": "9XjyQMns1QLD",
        "outputId": "0a541b0d-9519-4b90-cead-1c6a18c687e1"
      },
      "id": "9XjyQMns1QLD",
      "execution_count": null,
      "outputs": [
        {
          "output_type": "execute_result",
          "data": {
            "text/plain": [
              "array([3, 3, 4, 4, 4, 4, 5, 5, 5, 6, 6, 6, 6, 6, 7, 7, 7, 8, 8, 8, 8, 9,\n",
              "       9, 9, 9])"
            ]
          },
          "metadata": {},
          "execution_count": 27
        }
      ]
    },
    {
      "cell_type": "code",
      "source": [
        "from scipy import stats\n",
        "mod=stats.mode(vector)\n",
        "median=np.median(vector)\n",
        "print(mod)\n",
        "print(median)"
      ],
      "metadata": {
        "colab": {
          "base_uri": "https://localhost:8080/"
        },
        "id": "ncCdNz0n2ePy",
        "outputId": "a615b080-47a5-4eba-c066-f71ce99c5f52"
      },
      "id": "ncCdNz0n2ePy",
      "execution_count": null,
      "outputs": [
        {
          "output_type": "stream",
          "name": "stdout",
          "text": [
            "ModeResult(mode=np.int64(6), count=np.int64(5))\n",
            "6.0\n"
          ]
        }
      ]
    },
    {
      "cell_type": "code",
      "source": [
        "a = np.array([[1, 2, -1], [3, 4, 1], [5, 1, -3]])\n",
        "b = np.array([-3, 1, -2])\n",
        "\n",
        "x = np.linalg.solve(a, b)\n",
        "print('Вбудована функція', x)\n",
        "\n",
        "inv_a = np.linalg.inv(a)\n",
        "x1 = inv_a.dot(b)\n",
        "print('Матричний метод', x1)"
      ],
      "metadata": {
        "colab": {
          "base_uri": "https://localhost:8080/"
        },
        "id": "IkfBMnP54BLI",
        "outputId": "870e0f7b-4713-4e9b-e806-22274741cdce"
      },
      "id": "IkfBMnP54BLI",
      "execution_count": null,
      "outputs": [
        {
          "output_type": "stream",
          "name": "stdout",
          "text": [
            "Вбудована функція [ 1. -1.  2.]\n",
            "Матричний метод [ 1. -1.  2.]\n"
          ]
        }
      ]
    },
    {
      "cell_type": "code",
      "source": [
        "# Метод Крамера\n",
        "def kramer(a, b):\n",
        "    det_a = np.linalg.det(a)\n",
        "    if det_a != 0:\n",
        "        solutions = []\n",
        "        for i in range(len(a)):\n",
        "           modified_a = np.copy(a)\n",
        "           modified_a[:, i] = b\n",
        "           solutions.append(round(np.linalg.det(modified_a) / det_a, 1))\n",
        "        print('Solving a system of linear algebraic equations by Cramer\\'s method:')\n",
        "        #print('x =', solutions)\n",
        "\n",
        "    else: print('Determinant equals zero, the system has no solutions')\n",
        "    return solutions\n",
        "# Виклик функцій для розв'язання системи\n",
        "print(kramer(a, b))"
      ],
      "metadata": {
        "colab": {
          "base_uri": "https://localhost:8080/"
        },
        "id": "2okuC4Ib5jWX",
        "outputId": "fdfa9e8c-46f6-4c11-ee9d-5cefc853c193"
      },
      "id": "2okuC4Ib5jWX",
      "execution_count": null,
      "outputs": [
        {
          "output_type": "stream",
          "name": "stdout",
          "text": [
            "Solving a system of linear algebraic equations by Cramer's method:\n",
            "[np.float64(1.0), np.float64(-1.0), np.float64(2.0)]\n"
          ]
        }
      ]
    }
  ],
  "metadata": {
    "kernelspec": {
      "display_name": "Python 3 (ipykernel)",
      "language": "python",
      "name": "python3"
    },
    "language_info": {
      "codemirror_mode": {
        "name": "ipython",
        "version": 3
      },
      "file_extension": ".py",
      "mimetype": "text/x-python",
      "name": "python",
      "nbconvert_exporter": "python",
      "pygments_lexer": "ipython3",
      "version": "3.9.2"
    },
    "colab": {
      "provenance": [],
      "include_colab_link": true
    }
  },
  "nbformat": 4,
  "nbformat_minor": 5
}